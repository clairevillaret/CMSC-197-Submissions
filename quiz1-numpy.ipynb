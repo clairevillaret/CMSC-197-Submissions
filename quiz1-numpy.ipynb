{
 "cells": [
  {
   "cell_type": "code",
   "execution_count": 1,
   "id": "53a09213",
   "metadata": {},
   "outputs": [],
   "source": [
    "import numpy as np"
   ]
  },
  {
   "cell_type": "code",
   "execution_count": 2,
   "id": "0595944d",
   "metadata": {},
   "outputs": [],
   "source": [
    "#part 1\n",
    "#Instruction: Create 2 1D arrays, y_hat and y\n",
    "#             Initialize y_hat with 20 linearly spaced numbers between -1 and 1\n",
    "#             Initialize y with 20 linearly spaced numbers between 0 and 1\n",
    "\n",
    "#np.linspace is used to create an array with values that are spaced linearly in a specified interval\n",
    "\n",
    "#y_hat is a 1D array with 20 linearly spaced numbers between -1 and 1\n",
    "y_hat = np.array([np.linspace(-1, 1, num=20)])\n",
    "\n",
    "#y is a 1D array with 20 linearly spaced numbers between 0 and 1\n",
    "y = np.array([np.linspace(0, 1, num=20)])"
   ]
  },
  {
   "cell_type": "code",
   "execution_count": 3,
   "id": "2ec9386f",
   "metadata": {},
   "outputs": [
    {
     "data": {
      "text/plain": [
       "array([[-1.        , -0.89473684, -0.78947368, -0.68421053, -0.57894737,\n",
       "        -0.47368421, -0.36842105, -0.26315789, -0.15789474, -0.05263158,\n",
       "         0.05263158,  0.15789474,  0.26315789,  0.36842105,  0.47368421,\n",
       "         0.57894737,  0.68421053,  0.78947368,  0.89473684,  1.        ]])"
      ]
     },
     "execution_count": 3,
     "metadata": {},
     "output_type": "execute_result"
    }
   ],
   "source": [
    "#output of y_hat\n",
    "y_hat"
   ]
  },
  {
   "cell_type": "code",
   "execution_count": 4,
   "id": "c778048d",
   "metadata": {},
   "outputs": [
    {
     "data": {
      "text/plain": [
       "array([[0.        , 0.05263158, 0.10526316, 0.15789474, 0.21052632,\n",
       "        0.26315789, 0.31578947, 0.36842105, 0.42105263, 0.47368421,\n",
       "        0.52631579, 0.57894737, 0.63157895, 0.68421053, 0.73684211,\n",
       "        0.78947368, 0.84210526, 0.89473684, 0.94736842, 1.        ]])"
      ]
     },
     "execution_count": 4,
     "metadata": {},
     "output_type": "execute_result"
    }
   ],
   "source": [
    "#output of y\n",
    "y"
   ]
  },
  {
   "cell_type": "code",
   "execution_count": 5,
   "id": "1da9e006",
   "metadata": {},
   "outputs": [
    {
     "data": {
      "text/plain": [
       "2"
      ]
     },
     "execution_count": 5,
     "metadata": {},
     "output_type": "execute_result"
    }
   ],
   "source": [
    "#dimension of y_hat\n",
    "y_hat.ndim"
   ]
  },
  {
   "cell_type": "code",
   "execution_count": 6,
   "id": "52085691",
   "metadata": {},
   "outputs": [
    {
     "data": {
      "text/plain": [
       "(1, 20)"
      ]
     },
     "execution_count": 6,
     "metadata": {},
     "output_type": "execute_result"
    }
   ],
   "source": [
    "#shape of y_hat\n",
    "y_hat.shape"
   ]
  },
  {
   "cell_type": "code",
   "execution_count": 7,
   "id": "cc1ab909",
   "metadata": {},
   "outputs": [
    {
     "data": {
      "text/plain": [
       "2"
      ]
     },
     "execution_count": 7,
     "metadata": {},
     "output_type": "execute_result"
    }
   ],
   "source": [
    "#dimension of y\n",
    "y.ndim"
   ]
  },
  {
   "cell_type": "code",
   "execution_count": 8,
   "id": "7726af63",
   "metadata": {},
   "outputs": [
    {
     "data": {
      "text/plain": [
       "(1, 20)"
      ]
     },
     "execution_count": 8,
     "metadata": {},
     "output_type": "execute_result"
    }
   ],
   "source": [
    "#shape of y\n",
    "y.shape"
   ]
  },
  {
   "cell_type": "code",
   "execution_count": 9,
   "id": "a3b2e2a4",
   "metadata": {},
   "outputs": [],
   "source": [
    "#Create individual functions for each of the loss functions with y and y_hat as parameters\n",
    "\n",
    "#function for Mean Squared Error\n",
    "def mean_squared_error(y_hat, y):\n",
    "\n",
    "   difference = y_hat - y\n",
    "   differences_squared = difference ** 2\n",
    "   mean_diff = differences_squared.mean()\n",
    "   \n",
    "   return mean_diff"
   ]
  },
  {
   "cell_type": "code",
   "execution_count": 10,
   "id": "da3ea007",
   "metadata": {},
   "outputs": [
    {
     "data": {
      "text/plain": [
       "0.3421052631578948"
      ]
     },
     "execution_count": 10,
     "metadata": {},
     "output_type": "execute_result"
    }
   ],
   "source": [
    "mean_squared_error(y_hat,y)"
   ]
  },
  {
   "cell_type": "code",
   "execution_count": 11,
   "id": "cfbcbfc9",
   "metadata": {},
   "outputs": [],
   "source": [
    "#function for Mean Absolute Error\n",
    "def mean_absolute_error(y_hat, y):\n",
    "\n",
    "   difference = y_hat - y\n",
    "   abs_difference = np.absolute(difference)\n",
    "   mean_diff = abs_difference.mean()\n",
    "   \n",
    "   return mean_diff"
   ]
  },
  {
   "cell_type": "code",
   "execution_count": 12,
   "id": "82e8d92b",
   "metadata": {},
   "outputs": [
    {
     "data": {
      "text/plain": [
       "0.4999999999999999"
      ]
     },
     "execution_count": 12,
     "metadata": {},
     "output_type": "execute_result"
    }
   ],
   "source": [
    "mean_absolute_error(y_hat, y)"
   ]
  },
  {
   "cell_type": "code",
   "execution_count": 13,
   "id": "63aedd8f",
   "metadata": {},
   "outputs": [],
   "source": [
    "#function for Mean Squared Logarithmic Error\n",
    "def mean_squared_logarithmic_error(y_hat, y):\n",
    "\n",
    "   first_value = np.log(y_hat+1)\n",
    "   second_value = np.log(y+1)\n",
    "   squared_value = (first_value - second_value)**2\n",
    "   result = squared_value.mean()\n",
    "\n",
    "   return result"
   ]
  },
  {
   "cell_type": "code",
   "execution_count": 14,
   "id": "94da51b5",
   "metadata": {},
   "outputs": [
    {
     "name": "stderr",
     "output_type": "stream",
     "text": [
      "C:\\Users\\ASUS\\AppData\\Local\\Temp\\ipykernel_14384\\3601768426.py:4: RuntimeWarning: divide by zero encountered in log\n",
      "  first_value = np.log(y_hat+1)\n"
     ]
    },
    {
     "data": {
      "text/plain": [
       "inf"
      ]
     },
     "execution_count": 14,
     "metadata": {},
     "output_type": "execute_result"
    }
   ],
   "source": [
    "mean_squared_logarithmic_error(y_hat, y)"
   ]
  },
  {
   "cell_type": "code",
   "execution_count": 15,
   "id": "8bf6999e",
   "metadata": {},
   "outputs": [],
   "source": [
    "#function for Mean Absolute Percentage Error\n",
    "def mean_absolute_percentage_error(y_hat, y):\n",
    "\n",
    "   result = np.mean(np.absolute((y_hat-y)/y_hat))*100\n",
    "\n",
    "   return result"
   ]
  },
  {
   "cell_type": "code",
   "execution_count": 16,
   "id": "d0f65baa",
   "metadata": {},
   "outputs": [
    {
     "data": {
      "text/plain": [
       "202.65927536515775"
      ]
     },
     "execution_count": 16,
     "metadata": {},
     "output_type": "execute_result"
    }
   ],
   "source": [
    "mean_absolute_percentage_error(y_hat, y)"
   ]
  },
  {
   "cell_type": "code",
   "execution_count": 17,
   "id": "c65b69e4",
   "metadata": {},
   "outputs": [
    {
     "data": {
      "text/plain": [
       "array([ 1,  2,  3,  4,  5,  6,  7,  8,  9, 10, 11, 12, 13, 14, 15, 16])"
      ]
     },
     "execution_count": 17,
     "metadata": {},
     "output_type": "execute_result"
    }
   ],
   "source": [
    "#part 2\n",
    "#Instruction: Create a 1d array M {1, 2, …16} using the arange function\n",
    "\n",
    "M = np.arange(1,17)\n",
    "M"
   ]
  },
  {
   "cell_type": "code",
   "execution_count": 18,
   "id": "45cab168",
   "metadata": {},
   "outputs": [
    {
     "data": {
      "text/plain": [
       "array([[ 1,  2,  3,  4],\n",
       "       [ 5,  6,  7,  8],\n",
       "       [ 9, 10, 11, 12],\n",
       "       [13, 14, 15, 16]])"
      ]
     },
     "execution_count": 18,
     "metadata": {},
     "output_type": "execute_result"
    }
   ],
   "source": [
    "#Reshape M into 4x4 array and store it to N\n",
    "\n",
    "N = M.reshape(4,4)\n",
    "N"
   ]
  },
  {
   "cell_type": "code",
   "execution_count": 19,
   "id": "ca04c95b",
   "metadata": {},
   "outputs": [
    {
     "data": {
      "text/plain": [
       "array([5, 6, 7, 8])"
      ]
     },
     "execution_count": 19,
     "metadata": {},
     "output_type": "execute_result"
    }
   ],
   "source": [
    "#Get the 2nd row of N\n",
    "\n",
    "N[1]"
   ]
  },
  {
   "cell_type": "code",
   "execution_count": 20,
   "id": "0c3ce7d6",
   "metadata": {},
   "outputs": [
    {
     "data": {
      "text/plain": [
       "array([1, 2, 3, 4])"
      ]
     },
     "execution_count": 20,
     "metadata": {},
     "output_type": "execute_result"
    }
   ],
   "source": [
    "#Get the minimum values for each column of N\n",
    "\n",
    "min_values = np.min(N, axis=0)\n",
    "min_values"
   ]
  },
  {
   "cell_type": "code",
   "execution_count": 21,
   "id": "074528b7",
   "metadata": {},
   "outputs": [
    {
     "data": {
      "text/plain": [
       "array([0, 1, 2, 3], dtype=int64)"
      ]
     },
     "execution_count": 21,
     "metadata": {},
     "output_type": "execute_result"
    }
   ],
   "source": [
    "#Get the locations of the minimum values for each column of N\n",
    "\n",
    "locations = np.argsort(min_values)\n",
    "locations"
   ]
  },
  {
   "cell_type": "code",
   "execution_count": 22,
   "id": "02249978",
   "metadata": {},
   "outputs": [
    {
     "data": {
      "text/plain": [
       "8.5"
      ]
     },
     "execution_count": 22,
     "metadata": {},
     "output_type": "execute_result"
    }
   ],
   "source": [
    "#Get the average of the whole matrix\n",
    "\n",
    "np.average(N)"
   ]
  },
  {
   "cell_type": "code",
   "execution_count": 23,
   "id": "9da5bd5e",
   "metadata": {},
   "outputs": [
    {
     "data": {
      "text/plain": [
       "array([1, 1, 1, 1])"
      ]
     },
     "execution_count": 23,
     "metadata": {},
     "output_type": "execute_result"
    }
   ],
   "source": [
    "#Create a vector V with 4 elements, each element is 1\n",
    "\n",
    "V = np.array([1,1,1,1])\n",
    "V"
   ]
  },
  {
   "cell_type": "code",
   "execution_count": 24,
   "id": "1edda337",
   "metadata": {},
   "outputs": [
    {
     "data": {
      "text/plain": [
       "array([10, 26, 42, 58])"
      ]
     },
     "execution_count": 24,
     "metadata": {},
     "output_type": "execute_result"
    }
   ],
   "source": [
    "#Take the dot product of N and V\n",
    "\n",
    "np.dot(N,V)"
   ]
  },
  {
   "cell_type": "code",
   "execution_count": null,
   "id": "487998e1",
   "metadata": {},
   "outputs": [],
   "source": []
  }
 ],
 "metadata": {
  "kernelspec": {
   "display_name": "Python 3 (ipykernel)",
   "language": "python",
   "name": "python3"
  },
  "language_info": {
   "codemirror_mode": {
    "name": "ipython",
    "version": 3
   },
   "file_extension": ".py",
   "mimetype": "text/x-python",
   "name": "python",
   "nbconvert_exporter": "python",
   "pygments_lexer": "ipython3",
   "version": "3.9.12"
  }
 },
 "nbformat": 4,
 "nbformat_minor": 5
}
